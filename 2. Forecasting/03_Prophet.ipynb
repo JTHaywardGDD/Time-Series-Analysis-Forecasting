{
 "cells": [
  {
   "cell_type": "markdown",
   "metadata": {},
   "source": [
    "# Introduction to Prophet\n",
    "<img src=images/gdd-logo.png align='right' width=200>\n",
    "\n",
    "## Goal\n",
    "\n",
    "The goal of this notebook is to introduce Prophet from Facebook. It is a procedure for forecasting time series data that works by explicitly modeling trends, seasonalities and holiday effects, making it especially suitable for business applications."
   ]
  },
  {
   "cell_type": "markdown",
   "metadata": {},
   "source": [
    "## Program\n",
    "\n",
    "- [About Prophet](#ap)\n",
    "- [Forecasting with Prophet](#fwp)\n",
    "    - [Data preperation for Prophet]()\n",
    "    - [Instantiating the model]()\n",
    "    - [Fitting the model]()\n",
    "    - [Fetting predictions from the model]()\n",
    "- [Plotting with Prophet](#pwp)\n",
    "    - [Plotting the forecast]()\n",
    "    - [Plotting the components]()\n",
    "    - [Assignment](#as1)\n",
    "- [Change Points](#cp)\n",
    "- [Model evaluation with Prophet](#mewp)\n",
    "\n",
    "- [Multiplicative Seasonality and Model Selection](#msms)\n",
    "- [Handling special events]()"
   ]
  },
  {
   "cell_type": "code",
   "execution_count": null,
   "metadata": {},
   "outputs": [],
   "source": [
    "import matplotlib.pyplot as plt\n",
    "import numpy as np\n",
    "import pandas as pd\n",
    "\n",
    "from prophet import Prophet\n",
    "\n",
    "%matplotlib inline\n",
    "plt.rcParams[\"font.size\"] = 14\n",
    "plt.rcParams['figure.figsize'] = (20.0, 10.0)"
   ]
  },
  {
   "cell_type": "markdown",
   "metadata": {},
   "source": [
    "<a id='ap'></a>\n",
    "## About Prophet\n",
    "\n",
    "<!-- [Installation guide for Prophet](https://facebook.github.io/prophet/docs/installation.html#python)\n",
    "\n",
    "You may also want to install `plotly` (4.0 or above) and `ipywidgets` for interactive plots. -->\n",
    "\n",
    "<a href=\"https://facebookincubator.github.io/prophet/\">\n",
    "<img src='images/prophet.png' align='center' style=\"width:300px\"></a> \n",
    "\n",
    "Prophet is a libary for forecasting time series data. It was released by Facebook’s Core Data Science team on [GitHub](https://github.com/facebookincubator/prophet) in February 2017. Models are \"fit\" with [Stan](http://mc-stan.org/) and you can read the paper [here](https://facebookincubator.github.io/prophet/static/prophet_paper_20170113.pdf).\n",
    "\n",
    "### How Prophet works\n",
    "\n",
    "Prophet is an additive regression model, which models Time Series data with three main components: trend $T$, seasonality $S$ and holidays $H$\n",
    "\n",
    "$$Y(t) = T(t) + S(t) + H(t) + e_t$$\n",
    "\n",
    "**Trend**\n",
    "\n",
    "By default, a piecewise linear model is used to capture the trend.\n",
    "\n",
    "A piecewise linear model joins together individual linear models at *breakpoints* where the trend chagnes.\n",
    "\n",
    "These breakpoints can be automatically identified by the model or set manually.\n",
    "\n",
    "Alternatively, a logistic model can be used for non-linear growth with saturation or a flat model if there is no upwards/downards trend.\n",
    "\n",
    "**Seasonality**\n",
    "\n",
    "Fourier series are used to model seasonality.\n",
    "\n",
    "Dummy variables can be introduced when the seasonality is not constant throughout a period. For example, a weekly seasonal pattern that is different during the summer than it is during the rest of the year, or a daily seasonal pattern that is different on weekends vs. on weekdays.\n",
    "\n",
    "**Holidays**\n",
    "\n",
    "Users can provide a list of repeating/non-repeating special events, such as holidays, to prevent these irregularities being captured by the trend component.\n",
    "\n",
    "**Residual error**\n",
    "\n",
    "The residual represents any idiosyncratic changes which are not accommodated by the model"
   ]
  },
  {
   "cell_type": "markdown",
   "metadata": {},
   "source": [
    "<a id='fwp'></a>\n",
    "## Forecasting with Prophet\n",
    "\n",
    "To demonstrate Prophet, we shall use a dataset that contains the total monthly passenger traffic at [Schiphol airport](https://www.schiphol.nl/en/schiphol-group/page/transport-and-traffic-statistics/) between 1999 and 2019. Each datapoint indicates the total number of passengers traveled via Schiphol in millions in each particular month."
   ]
  },
  {
   "cell_type": "code",
   "execution_count": null,
   "metadata": {},
   "outputs": [],
   "source": [
    "schiphol = pd.read_csv('data/schiphol_passengers.csv', \n",
    "                       index_col='date', \n",
    "                       parse_dates=True,\n",
    "                       #date_format=\"%Y %B\" for Pandas 2.0+\n",
    "                      )\n",
    "schiphol.index.freq = 'MS'\n",
    "schiphol.head()"
   ]
  },
  {
   "cell_type": "markdown",
   "metadata": {},
   "source": [
    "![](images/schiphol.png)"
   ]
  },
  {
   "cell_type": "markdown",
   "metadata": {},
   "source": [
    "### Data preparation for Prophet"
   ]
  },
  {
   "cell_type": "markdown",
   "metadata": {},
   "source": [
    "Prophet expects a `ds` column with timestamps and he variable of interest should be called `y`."
   ]
  },
  {
   "cell_type": "code",
   "execution_count": null,
   "metadata": {},
   "outputs": [],
   "source": [
    "schiphol = (schiphol\n",
    "            .rename(columns={'total_passengers': 'y'})\n",
    "            .assign(y=lambda df: df['y']/1000000,  #the variable of interest should be called 'y' for Prophet\n",
    "                   ds=lambda df: df.index)  #Prophet needs a 'ds' column with timestamps\n",
    "           )\n",
    "schiphol.tail()"
   ]
  },
  {
   "cell_type": "markdown",
   "metadata": {},
   "source": [
    "We shall create a train and test split so we can evaluate the generalisability of our models."
   ]
  },
  {
   "cell_type": "code",
   "execution_count": null,
   "metadata": {},
   "outputs": [],
   "source": [
    "schiphol_train = schiphol.loc[:'2017 Jan']\n",
    "schiphol_test = schiphol.loc['2017 Jan':]\n",
    "print(f\"{len(schiphol_train)} months of training data\")\n",
    "print(f\"{len(schiphol_test)} months of test data\")"
   ]
  },
  {
   "cell_type": "code",
   "execution_count": null,
   "metadata": {},
   "outputs": [],
   "source": [
    "fig, ax = plt.subplots(figsize=(18,5))\n",
    "schiphol_train['y'].plot(ax=ax);\n",
    "schiphol_test['y'].plot(ax=ax, c='g');"
   ]
  },
  {
   "cell_type": "markdown",
   "metadata": {},
   "source": [
    "### Instantiating the model\n",
    "\n",
    "The first step is to instantiate a new `Prophet` object.  "
   ]
  },
  {
   "cell_type": "code",
   "execution_count": null,
   "metadata": {},
   "outputs": [],
   "source": [
    "model = Prophet()"
   ]
  },
  {
   "cell_type": "markdown",
   "metadata": {},
   "source": [
    "This is where we determine settings such as the type of trend growth or seasonality."
   ]
  },
  {
   "cell_type": "code",
   "execution_count": null,
   "metadata": {},
   "outputs": [],
   "source": [
    "## By default, Prophet will fit weekly and yearly seasonalities.\n",
    "#model = Prophet(yearly_seasonality=True, daily_seasonality=False)"
   ]
  },
  {
   "cell_type": "markdown",
   "metadata": {},
   "source": [
    "### Fitting the model"
   ]
  },
  {
   "cell_type": "markdown",
   "metadata": {},
   "source": [
    "Once the model has been initiated you can call its `fit` method and pass in the historical dataframe."
   ]
  },
  {
   "cell_type": "code",
   "execution_count": null,
   "metadata": {
    "scrolled": false
   },
   "outputs": [],
   "source": [
    "model.fit(schiphol_train);"
   ]
  },
  {
   "cell_type": "markdown",
   "metadata": {},
   "source": [
    "### Getting predictions from the model"
   ]
  },
  {
   "cell_type": "markdown",
   "metadata": {},
   "source": [
    "Predictions are then made on a dataframe with a column `ds` containing the dates for which a prediction is to be made. You can get a suitable dataframe that extends into the future a specified number of days using the helper method `.make_future_dataframe()`. By default it will also include the dates from the history, so we will see the model fit as well.\n",
    "\n",
    "Prophet expects daily data by default - remember to specify if you have a different format"
   ]
  },
  {
   "cell_type": "code",
   "execution_count": null,
   "metadata": {},
   "outputs": [],
   "source": [
    "future = model.make_future_dataframe(periods=len(schiphol_test)-1, freq='MS') \n",
    "future.tail()"
   ]
  },
  {
   "cell_type": "markdown",
   "metadata": {},
   "source": [
    "The `predict` method will assign each row in `future` a predicted value which it names `yhat`.  If you pass in historical dates, it will provide an in-sample fit. \n",
    "\n",
    "The `forecast` object here is a new dataframe that includes a column `yhat` with the forecast, as well as columns for components and uncertainty intervals. "
   ]
  },
  {
   "cell_type": "code",
   "execution_count": null,
   "metadata": {},
   "outputs": [],
   "source": [
    "forecast = model.predict(future)\n",
    "print(forecast.shape)\n",
    "forecast.head()"
   ]
  },
  {
   "cell_type": "code",
   "execution_count": null,
   "metadata": {},
   "outputs": [],
   "source": [
    "forecast[['ds', 'yhat', 'yhat_lower', 'yhat_upper']].tail()"
   ]
  },
  {
   "cell_type": "markdown",
   "metadata": {},
   "source": [
    "Prophet estimates uncertainty by using Monte Carlo simulation. By default, 1000 samples are generated and Prophet returns the $10^{th}$ and $90^{th}$ percentiles at each time step (uncertainty interval of 80%). However, these are model parameters that can be set, e.g. `Prophet(uncertainty_samples=100, interval_width=0.95)`.\n",
    "\n",
    "This [blogpost](https://towardsdatascience.com/how-to-run-facebook-prophet-predict-x100-faster-cce0282ca77d) contains a good explanation for how Prophet performs Monte Carlo simulation to generate uncertainty intervals."
   ]
  },
  {
   "cell_type": "markdown",
   "metadata": {},
   "source": [
    "<a id='pwp'></a>\n",
    "## Plotting with Prophet\n",
    "\n",
    "### Plotting the forecast\n",
    "\n",
    "Prophet has its own plotting functionality, which is compatible with Matplotlib. You can plot the forecast by calling the `.plot()` method and passing in your forecast dataframe.\n",
    "\n",
    "Black dots indicate the real data points. Dark blue line shows the model fit with light blue area indicating lower to upper prediction bounds."
   ]
  },
  {
   "cell_type": "code",
   "execution_count": null,
   "metadata": {},
   "outputs": [],
   "source": [
    "model.plot(forecast, figsize=(18,7));\n",
    "plt.xticks(rotation=25);"
   ]
  },
  {
   "cell_type": "markdown",
   "metadata": {},
   "source": [
    "An interactive figure of the forecast and components can be created with plotly. You will need to install plotly 4.0 or above separately, as it will not by default be installed with prophet. You will also need the `ipywidgets` package."
   ]
  },
  {
   "cell_type": "code",
   "execution_count": null,
   "metadata": {},
   "outputs": [],
   "source": [
    "from prophet.plot import plot_plotly, plot_components_plotly\n",
    "\n",
    "plot_plotly(model, forecast)"
   ]
  },
  {
   "cell_type": "markdown",
   "metadata": {},
   "source": [
    "Let's have a closer look at the prediction area and compare it to the actual  test set values:"
   ]
  },
  {
   "cell_type": "code",
   "execution_count": null,
   "metadata": {},
   "outputs": [],
   "source": [
    "fig, ax = plt.subplots()\n",
    "model.plot(forecast, ax=ax);\n",
    "schiphol_test['y'].plot(ax=ax, c='green')\n",
    "plt.xticks(rotation=25)\n",
    "plt.xlim(pd.Timestamp('2017-01-01'), pd.Timestamp('2019-12-01')); # to zoom into a region"
   ]
  },
  {
   "cell_type": "markdown",
   "metadata": {},
   "source": [
    "Predictions look quite good, especially for fall and winter months, with a bit of underestimation for the summer peaks.\n"
   ]
  },
  {
   "cell_type": "markdown",
   "metadata": {},
   "source": [
    "### Plotting the components\n",
    "\n",
    "If we want a more customized plot, we can simply get the necessary columns from the *forecast* dataframe and plot them as we usually would do with Pandas:"
   ]
  },
  {
   "cell_type": "code",
   "execution_count": null,
   "metadata": {},
   "outputs": [],
   "source": [
    "forecast.shape"
   ]
  },
  {
   "cell_type": "code",
   "execution_count": null,
   "metadata": {},
   "outputs": [],
   "source": [
    "schiphol.index.shape"
   ]
  },
  {
   "cell_type": "code",
   "execution_count": null,
   "metadata": {},
   "outputs": [],
   "source": [
    "pltr = (forecast\n",
    "         .set_index(schiphol.index)\n",
    "        )\n",
    "\n",
    "fig, ax = plt.subplots(figsize=(18,6))\n",
    "schiphol['y'].plot(ax=ax);\n",
    "pltr[['trend','yearly']].plot(ax=ax);\n",
    "ax.legend([\"y_real\", \"trend\", \"yearly seasonality\"], prop={'size': 16});"
   ]
  },
  {
   "cell_type": "markdown",
   "metadata": {},
   "source": [
    "<a id='as1'></a>\n",
    "### Assignment: Detecting Outliers\n",
    "\n",
    "Identify and highlight on the plot the *training set* points that lie outside of the confidence boundaries of our Prophet model\n",
    "\n",
    "*HINT:* Create a new variable that has the real *y values* when it is an outlier and a missing value (np.nan) otherwise. Then plot it alongside Prophet's plot. Make sure the index of the new dataframe is the timestamps."
   ]
  },
  {
   "cell_type": "code",
   "execution_count": null,
   "metadata": {},
   "outputs": [],
   "source": [
    "# %load answers/prophet_outliers.py"
   ]
  },
  {
   "cell_type": "markdown",
   "metadata": {},
   "source": [
    "Prophet has functions to automate the plotting of the componenents. \n",
    "\n",
    "However, with this dataset it will give strange results for the yearly seasonality plot. This is because the model was trained on monthly data but we are asking it to plot daily information. See [here](https://facebook.github.io/prophet/docs/non-daily_data.html#monthly-data) for more information."
   ]
  },
  {
   "cell_type": "code",
   "execution_count": null,
   "metadata": {},
   "outputs": [],
   "source": [
    "model.plot_components(forecast)\n",
    "plt.xticks(rotation=25);"
   ]
  },
  {
   "cell_type": "code",
   "execution_count": null,
   "metadata": {},
   "outputs": [],
   "source": [
    "plot_components_plotly(model, forecast)"
   ]
  },
  {
   "cell_type": "markdown",
   "metadata": {},
   "source": [
    "<a id='cp'></a>\n",
    "\n",
    "## Change Points\n",
    "\n",
    "Often it is valuable to identify points in time at which the growth rate over time changes and breaks in the trend happen. Prophet has some useful tools to assist us with this.\n",
    "\n",
    "Let's first have a look at our dataset and the trends in it again:"
   ]
  },
  {
   "cell_type": "code",
   "execution_count": null,
   "metadata": {},
   "outputs": [],
   "source": [
    "schiphol['y'].plot(figsize=(18,6));"
   ]
  },
  {
   "cell_type": "markdown",
   "metadata": {},
   "source": [
    "How many change points do you think there are in the data? Which are easier to identify?\n",
    "\n",
    "Now let's consult Prophet:"
   ]
  },
  {
   "cell_type": "code",
   "execution_count": null,
   "metadata": {},
   "outputs": [],
   "source": [
    "from prophet.plot import add_changepoints_to_plot\n",
    "\n",
    "fig = model.plot(forecast)\n",
    "c_points = add_changepoints_to_plot(fig.gca(),model, forecast)"
   ]
  },
  {
   "cell_type": "markdown",
   "metadata": {},
   "source": [
    "Change point detection with Prophet is not only simple, but would typically outperform many good custom models. It can serve as a handy analytical tool to identify and better understand key periods of the time series.\n",
    "\n",
    "If preferred, it is possible to [set the change points manually](https://facebook.github.io/prophet/docs/trend_changepoints.html#specifying-the-locations-of-the-changepoints)."
   ]
  },
  {
   "cell_type": "markdown",
   "metadata": {},
   "source": [
    "<a id='mewp'></a>\n",
    "## Model Evaluation with Prophet\n",
    "\n",
    "Since Prophet provides the $\\hat{y}$ column, we can compare it with the actual test data and calculate the usual metrics such as MAE or RMSE, as we would normally do with our custom models"
   ]
  },
  {
   "cell_type": "code",
   "execution_count": null,
   "metadata": {},
   "outputs": [],
   "source": [
    "from sklearn.metrics import mean_absolute_error, mean_squared_error, mean_absolute_percentage_error\n",
    "\n",
    "y_pred = forecast.iloc[-36:]['yhat']\n",
    "y_test = schiphol_test['y']\n",
    "y_test_mean = round(y_test.mean(),2)\n",
    "\n",
    "MAE = round(mean_absolute_error(y_test, y_pred),2)\n",
    "MSE = round(mean_squared_error(y_test, y_pred),2)\n",
    "RMSE = round(np.sqrt(MSE),3)\n",
    "MAPE = round(mean_absolute_percentage_error(y_test, y_pred)*100,2)\n",
    "\n",
    "print(f'MAE: {MAE}, RMSE: {RMSE}, MAPE: {MAPE}%')"
   ]
  },
  {
   "cell_type": "markdown",
   "metadata": {},
   "source": [
    "Luckily for us, Prophet comes with its own model diagnostics functionality. It can actually do much more than just MSE on the test set. Most notably, it allows model evaluation with cross-validation - evaluate the model on several sections of our time series. This can give an even better idea of the model's predictive power.\n",
    "\n",
    "<img src='images/prophet_cv.png' style=\"width:500px\"></a> \n",
    "\n",
    "Various cutoff points are selected in the history, and for each of them the model is fitted using data only up to that cutoff point. The forecasted values are then compared to the actual values. "
   ]
  },
  {
   "cell_type": "code",
   "execution_count": null,
   "metadata": {},
   "outputs": [],
   "source": [
    "from prophet.diagnostics import cross_validation"
   ]
  },
  {
   "cell_type": "markdown",
   "metadata": {},
   "source": [
    "First we need to set some parameters for `cross_validation`:\n",
    "\n",
    "As we are working with monthly data it is better to specify the cutoff periods we will use. "
   ]
  },
  {
   "cell_type": "code",
   "execution_count": null,
   "metadata": {},
   "outputs": [],
   "source": [
    "schiphol_train['ds'].min(), schiphol_train['ds'].max()"
   ]
  },
  {
   "cell_type": "code",
   "execution_count": null,
   "metadata": {},
   "outputs": [],
   "source": [
    "# Cutoffs - we will train on data up until the cutoff points\n",
    "# i.e. 5 year inital period, then every 2 years\n",
    "cutoffs = pd.date_range(start='2004-01-01', end='2016-01-01', freq='2Y')\n",
    "cutoffs"
   ]
  },
  {
   "cell_type": "markdown",
   "metadata": {},
   "source": [
    "However, it would also be possible to specify an initial training period and the subsequent spacing between cutoff dates."
   ]
  },
  {
   "cell_type": "code",
   "execution_count": null,
   "metadata": {},
   "outputs": [],
   "source": [
    "# #Initial - the size of the initial training period (3 * horizon by default)\n",
    "# initial = str(5*365)+\" days\"\n",
    "# initial"
   ]
  },
  {
   "cell_type": "code",
   "execution_count": null,
   "metadata": {},
   "outputs": [],
   "source": [
    "# #Period - the spacing between cutoff dates - every X days  (0.5 * horizon by default)\n",
    "# period = str(2*365)+\" days\"\n",
    "# period"
   ]
  },
  {
   "cell_type": "markdown",
   "metadata": {},
   "source": [
    "The horizon specifies how far into the future we want to predict."
   ]
  },
  {
   "cell_type": "code",
   "execution_count": null,
   "metadata": {},
   "outputs": [],
   "source": [
    "#Horizon - how far out to forecast for each period\n",
    "horizon = str(365)+\" days\"\n",
    "horizon"
   ]
  },
  {
   "cell_type": "code",
   "execution_count": null,
   "metadata": {},
   "outputs": [],
   "source": [
    "#performing cross validation\n",
    "\n",
    "# Using cutoffs\n",
    "df_cv = cross_validation(model, cutoffs=cutoffs, horizon=horizon)\n",
    "\n",
    "# Using inital & period\n",
    "# df_cv = cross_validation(model, initial=initial, period=period, horizon=horizon)"
   ]
  },
  {
   "cell_type": "markdown",
   "metadata": {},
   "source": [
    "Let's have a look at the results of cross validation:"
   ]
  },
  {
   "cell_type": "code",
   "execution_count": null,
   "metadata": {},
   "outputs": [],
   "source": [
    "df_cv"
   ]
  },
  {
   "cell_type": "code",
   "execution_count": null,
   "metadata": {
    "scrolled": false
   },
   "outputs": [],
   "source": [
    "df_cv.resample('Y', on='ds').count()"
   ]
  },
  {
   "cell_type": "markdown",
   "metadata": {},
   "source": [
    "Metrics for the cross-validation predictions are computed for different horizon windows:"
   ]
  },
  {
   "cell_type": "code",
   "execution_count": null,
   "metadata": {},
   "outputs": [],
   "source": [
    "from prophet.diagnostics import performance_metrics\n",
    "performance_metrics(df_cv, rolling_window = 0.1)"
   ]
  },
  {
   "cell_type": "markdown",
   "metadata": {},
   "source": [
    "The size of the windows (number of simulated forecast points) is determined by the `rolling_window` argument.\n",
    "\n",
    "- The default of `rolling_window=0.1` will incorporate 10% more predictions in each window. \n",
    "- `rolling_window=1` will compute the metric across all simulated forecast points. "
   ]
  },
  {
   "cell_type": "markdown",
   "metadata": {},
   "source": [
    "To comprehend the cross validation results it can be helpful to make a plot."
   ]
  },
  {
   "cell_type": "code",
   "execution_count": null,
   "metadata": {},
   "outputs": [],
   "source": [
    "from prophet.plot import plot_cross_validation_metric\n",
    "plot_cross_validation_metric(df_cv, metric='rmse');"
   ]
  },
  {
   "cell_type": "code",
   "execution_count": null,
   "metadata": {},
   "outputs": [],
   "source": [
    "#mape - mean absolute percentage error\n",
    "plot_cross_validation_metric(df_cv, metric='mape');"
   ]
  },
  {
   "cell_type": "markdown",
   "metadata": {},
   "source": [
    "<a id='msms'></a>\n",
    "## Multiplicative Seasonality and Model Selection\n",
    "\n",
    "While it may feel like Prophet does all the work for you, there are some important parameters that you can change to create a better model. For instance, you can manually set the types of seasonality that you expect in the data (even though Prophet can also do this automatically). You can also choose to not have constant seasonality over time - by default Prophet will assume fixed seasonality.\n",
    "\n",
    "Let's inspect our Prophet model once again and pay a closer attention to the seasonal cycles:"
   ]
  },
  {
   "cell_type": "code",
   "execution_count": null,
   "metadata": {},
   "outputs": [],
   "source": [
    "model.plot(forecast, figsize=(18,7));\n",
    "plt.xticks(rotation=25);\n",
    "plt.xlim(pd.Timestamp('1999-01-01'), pd.Timestamp('2017-01-01'));"
   ]
  },
  {
   "cell_type": "markdown",
   "metadata": {},
   "source": [
    "We can notice that our seasonal cycles are a bit too large for the beginning and a bit too small for the latest data points. This could be a likely sign of *Multiplicative Seasonality*. By setting `seasonality_mode='multiplicative'` we can allow Prophet to fit a model with growing (or shrinking) seasonal cycles over time."
   ]
  },
  {
   "cell_type": "code",
   "execution_count": null,
   "metadata": {},
   "outputs": [],
   "source": [
    "model2 = Prophet(seasonality_mode='multiplicative')\n",
    "model2.fit(schiphol_train);\n",
    "\n",
    "\n",
    "future2 = model2.make_future_dataframe(periods=len(schiphol_test)-1, freq='MS') \n",
    "forecast2 = model2.predict(future2)\n",
    "\n",
    "fig, ax = plt.subplots()\n",
    "model2.plot(forecast2, ax=ax);\n",
    "plt.xticks(rotation=25);"
   ]
  },
  {
   "cell_type": "markdown",
   "metadata": {},
   "source": [
    "This seems to be a much better fit! The seasonal cycles are just large enough for all moments in time. Also notice how the confidence bounds are narrower - the model is more confident about its fit and predictions now.\n",
    "\n",
    "Ironically, a better fit does not always mean better predictions. This new model is quite confident that summer passenger traffic will be expanding more and more after 2017. This is not unreasonable given the past data. However the reality (airport capacity and environmental challenges) make the reality a bit different: "
   ]
  },
  {
   "cell_type": "code",
   "execution_count": null,
   "metadata": {},
   "outputs": [],
   "source": [
    "fig, ax = plt.subplots()\n",
    "model2.plot(forecast2, ax=ax);\n",
    "schiphol_test['y'].plot(ax=ax, c='r');\n",
    "plt.xticks(rotation=25);"
   ]
  },
  {
   "cell_type": "markdown",
   "metadata": {},
   "source": [
    "We actually make more errors with this new model, when making predictions into 2017-2019, even though it fits the historic data better:"
   ]
  },
  {
   "cell_type": "code",
   "execution_count": null,
   "metadata": {},
   "outputs": [],
   "source": [
    "y_pred2 = forecast2.iloc[-36:]['yhat']\n",
    "\n",
    "MAE2 = round(mean_absolute_error(y_test, y_pred2),2)\n",
    "RMSE2 = round(mean_squared_error(y_test, y_pred2, squared=False),2)\n",
    "MAPE2 = round(mean_absolute_percentage_error(y_test, y_pred)*100,2)\n",
    "\n",
    "print(f'RMSE: {RMSE2}')\n",
    "print(f'Whilst previously we had RMSE: {RMSE}')"
   ]
  },
  {
   "cell_type": "markdown",
   "metadata": {},
   "source": [
    "Note how this is not clear from cross-validated scores - they are primarily based on the historic data where *Model 2* usually does better. These scores therefore may not properly alarm us that the assumption of further expanding seasonality of *Model 2* may hinder our predictions post-2017:"
   ]
  },
  {
   "cell_type": "code",
   "execution_count": null,
   "metadata": {
    "scrolled": true
   },
   "outputs": [],
   "source": [
    "#performing cross validation with the new model\n",
    "df_cv2 = cross_validation(model2, cutoffs=cutoffs, horizon=horizon)\n",
    "# df_cv2 = cross_validation(model2, initial=initial, period=period, horizon=horizon)"
   ]
  },
  {
   "cell_type": "code",
   "execution_count": null,
   "metadata": {},
   "outputs": [],
   "source": [
    "fig, ax = plt.subplots()\n",
    "plot_cross_validation_metric(df_cv, metric='rmse', ax=ax)\n",
    "plot_cross_validation_metric(df_cv2, metric='rmse', ax=ax);\n",
    "plt.gca().get_lines()[3].set_color(\"green\")\n",
    "ax.legend([\"\", \"model 1\", \"\", \"model 2\"], prop={'size': 18});"
   ]
  },
  {
   "cell_type": "markdown",
   "metadata": {},
   "source": [
    "## Handling special events\n",
    "\n",
    "Prophet has great functionaliy for handling special events and dramatic shocks in the data.\n",
    "\n",
    "To demonstrate this, let's load in the total monthly passenger traffic at [Schiphol airport](https://www.schiphol.nl/en/schiphol-group/page/transport-and-traffic-statistics/) between January 1999 and March 2023. This will include the months passenger traffic was affected by the COVID-19 pandemic."
   ]
  },
  {
   "cell_type": "code",
   "execution_count": null,
   "metadata": {},
   "outputs": [],
   "source": [
    "schiphol_covid = (\n",
    "    pd.read_csv('data/schiphol_covid.csv', \n",
    "        index_col='date', \n",
    "        parse_dates=True,\n",
    "        #date_format=\"%Y %B\" for Pandas 2.0+\n",
    "        )\n",
    "        .rename(columns={'total_passengers': 'y'})\n",
    "        .assign(y=lambda df: df['y']/1000000,  #the variable of interest should be called 'y' for Prophet\n",
    "                ds=lambda df: df.index)  #Prophet needs a 'ds' column with timestamps\n",
    ")\n",
    "schiphol_covid.index.freq = 'MS'\n",
    "\n",
    "schiphol_covid_train = schiphol_covid.loc[:'2022 Jan']\n",
    "schiphol_covid_test = schiphol_covid.loc['2022 Jan':]\n",
    "print(f\"{len(schiphol_covid_train)} months of training data\")\n",
    "print(f\"{len(schiphol_covid_test)} months of test data\")\n",
    "\n",
    "fig, ax = plt.subplots(figsize=(18,5))\n",
    "schiphol_covid_train['y'].plot(ax=ax);\n",
    "schiphol_covid_test['y'].plot(ax=ax, c='g');"
   ]
  },
  {
   "cell_type": "markdown",
   "metadata": {},
   "source": [
    "The model we created prevously will struggle to handle this \"shock\"."
   ]
  },
  {
   "cell_type": "code",
   "execution_count": null,
   "metadata": {},
   "outputs": [],
   "source": [
    "%%capture \n",
    "model_covid = Prophet()\n",
    "\n",
    "model_covid.fit(schiphol_covid_train)\n",
    "\n",
    "future_covid = model_covid.make_future_dataframe(periods=len(schiphol_covid_test)-1, freq='MS')\n",
    "\n",
    "forecast_covid = model_covid.predict(future_covid)"
   ]
  },
  {
   "cell_type": "code",
   "execution_count": null,
   "metadata": {},
   "outputs": [],
   "source": [
    "fig, ax = plt.subplots(figsize=(18,5))\n",
    "model_covid.plot(forecast_covid, ax=ax);\n",
    "plt.xticks(rotation=25);"
   ]
  },
  {
   "cell_type": "code",
   "execution_count": null,
   "metadata": {},
   "outputs": [],
   "source": [
    "fig, ax = plt.subplots(figsize=(18,5))\n",
    "schiphol_covid['y'].plot(ax=ax);\n",
    "forecast_covid.set_index(\"ds\").plot(y=\"yhat\", ax=ax);\n",
    "ax.legend([\"y_real\", \"y_hat\"], prop={'size': 16});\n",
    "plt.xticks(rotation=25);"
   ]
  },
  {
   "cell_type": "markdown",
   "metadata": {},
   "source": [
    "However, if we provide prophet with the dates when this irregularity occured, we can avoid it being captured in the trend component.\n",
    "\n",
    "We need to create a DataFrame with two columns:\n",
    "- `holiday`: name for the event\n",
    "- `ds`: date of the event"
   ]
  },
  {
   "cell_type": "markdown",
   "metadata": {},
   "source": [
    "We shall estimate when COVID-19 brought lockdowns to the Netherlands."
   ]
  },
  {
   "cell_type": "code",
   "execution_count": null,
   "metadata": {},
   "outputs": [],
   "source": [
    "covid_dates = pd.date_range(start='2020 April', end='2022 March')"
   ]
  },
  {
   "cell_type": "code",
   "execution_count": null,
   "metadata": {},
   "outputs": [],
   "source": [
    "lockdowns = pd.DataFrame(\n",
    "    columns=['holiday', 'ds'],\n",
    "    data=[[\"day \"+str(idx), date] for idx, date in enumerate(covid_dates)]\n",
    ")\n",
    "lockdowns"
   ]
  },
  {
   "cell_type": "markdown",
   "metadata": {},
   "source": [
    "Alternatively, we can provide an upper and lower bound if it is a repeated event."
   ]
  },
  {
   "cell_type": "code",
   "execution_count": null,
   "metadata": {},
   "outputs": [],
   "source": [
    "lockdowns = pd.DataFrame([{\n",
    "    'holiday': 'lockdown', 'ds': pd.Timestamp('2020-04-01'), 'lower_window': 0, 'upper_window':len(covid_dates)-1\n",
    "}])\n",
    "lockdowns"
   ]
  },
  {
   "cell_type": "markdown",
   "metadata": {},
   "source": [
    "We can then pass this information into the Prophet object"
   ]
  },
  {
   "cell_type": "code",
   "execution_count": null,
   "metadata": {},
   "outputs": [],
   "source": [
    "%%capture \n",
    "model_lockdowns = Prophet(holidays=lockdowns)\n",
    "\n",
    "model_lockdowns.fit(schiphol_covid_train)\n",
    "\n",
    "future_lockdowns = model_lockdowns.make_future_dataframe(periods=len(schiphol_covid_test)-1, freq='MS')\n",
    "\n",
    "forecast_lockdowns = model_lockdowns.predict(future_lockdowns)"
   ]
  },
  {
   "cell_type": "code",
   "execution_count": null,
   "metadata": {},
   "outputs": [],
   "source": [
    "fig, ax = plt.subplots(figsize=(18,5))\n",
    "model_lockdowns.plot(forecast_lockdowns, ax=ax);\n",
    "plt.xticks(rotation=25);"
   ]
  },
  {
   "cell_type": "code",
   "execution_count": null,
   "metadata": {},
   "outputs": [],
   "source": [
    "fig, ax = plt.subplots(figsize=(18,5))\n",
    "schiphol_covid['y'].plot(ax=ax);\n",
    "forecast_lockdowns.set_index(\"ds\").plot(y=\"yhat\", ax=ax);\n",
    "ax.legend([\"y_real\", \"y_hat\"], prop={'size': 16});\n",
    "plt.xticks(rotation=25); "
   ]
  },
  {
   "cell_type": "markdown",
   "metadata": {},
   "source": [
    "Whilst we still do not have a perfect model, it is clearly a better estimation than before."
   ]
  },
  {
   "cell_type": "markdown",
   "metadata": {},
   "source": [
    "<a id='sum'></a>\n",
    "## Summary\n",
    "\n",
    "This notebook has provided you with an overview on how to use the Prophet library to model Time Series data. You can refer to the [docs](https://facebook.github.io/prophet/docs/quick_start.html#python-api) for more information and further features.\n",
    "\n",
    "**Pros:** \n",
    "- Highly automated and simple to use. \n",
    "- Does not require extensive preprocessing and domain knowledge. \n",
    "- Robust to missing data, outliers and dramatic changes. \n",
    "- Measures explainable and quantifiable effects. \n",
    "- Can be easily used to detect outliers and trend change points. \n",
    "- Typically outperforms many custom models.\n",
    "\n",
    "**Cons:** \n",
    "- Is a bit of a black box. \n",
    "- Still in development and some features are still missing ([updates for 2023](https://medium.com/@cuongduong_35162/facebook-prophet-in-2023-and-beyond-c5086151c138)). \n",
    "- Less customization of the model."
   ]
  }
 ],
 "metadata": {
  "kernelspec": {
   "display_name": "Python 3 (ipykernel)",
   "language": "python",
   "name": "python3"
  },
  "language_info": {
   "codemirror_mode": {
    "name": "ipython",
    "version": 3
   },
   "file_extension": ".py",
   "mimetype": "text/x-python",
   "name": "python",
   "nbconvert_exporter": "python",
   "pygments_lexer": "ipython3",
   "version": "3.9.15"
  }
 },
 "nbformat": 4,
 "nbformat_minor": 4
}
